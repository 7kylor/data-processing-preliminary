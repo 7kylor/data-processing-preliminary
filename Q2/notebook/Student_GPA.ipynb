{
 "cells": [
  {
   "cell_type": "markdown",
   "metadata": {},
   "source": [
    "<h1 align=center style=\"line-height:200%;color:#0099cc\">\n",
    "Student GPA Prediction\n",
    "</h1>\n",
    "\n",
    "<p style=\"text-align: justify; line-height:200%; font-size:medium\">\n",
    "In this question, we intend to estimate the students' Grade Point Average (GPA) using a dataset that includes student information. To do this, after preprocessing the data, you must engage in feature engineering and build an appropriate model. Note that, in the end, only your model will be evaluated, but naturally, the better your preprocessing and feature engineering, the better model you will ultimately achieve.\n",
    "\n",
    "</p>\n"
   ]
  },
  {
   "cell_type": "markdown",
   "metadata": {},
   "source": [
    "<h2 style=\"line-height:200%;color:#0099cc\">\n",
    "Dataset Introduction\n",
    "</h2>\n",
    "\n",
    "<p style=\"text-align: justify; line-height:200%; font-size:medium\">\n",
    "    In the initial file for this question, there is a folder named <code>data</code>.\n",
    "    This folder includes two files named <code>train.csv</code> and <code>test.csv</code>, which are the training and test datasets, respectively.\n",
    "    The training dataset for this question includes 1913 rows and 14 columns, and\n",
    "        the test dataset has 479 rows and is missing only the <code>GPA</code> column.\n",
    "    The descriptions of the columns are as follows:\n",
    "</p>\n",
    "\n",
    "<center>\n",
    "<div style=\"line-height:200%;font-size:medium\">\n",
    "\n",
    "|      <b>Feature Name</b>       |                            <b>Feature Description</b>                             |\n",
    "| :----------------------------: | :-------------------------------------------------------------------------------: | --- |\n",
    "|     <code>StudentID</code>     |                                    Student ID                                     |\n",
    "|        <code>Age</code>        |                                 Individual's Age                                  |\n",
    "|      <code>Gender</code>       |                       Gender, 0 for males and 1 for females                       |\n",
    "|     <code>Ethnicity</code>     |                                Students' Ethnicity                                |\n",
    "| <code>ParentalEducation</code> |                         Student's family education level                          |\n",
    "|  <code>StudyTimeWeekly</code>  |                       Weekly study hours from 0 to 20 hours                       |\n",
    "|     <code>Absences</code>      |           Number of student absences in one academic year from 0 to 30            |\n",
    "|     <code>Tutoring</code>      |               Tutoring status, 0 indicating no and 1 indicating yes               |\n",
    "|  <code>ParentalSupport</code>  |                     Level of parental support for the student                     |\n",
    "|  <code>Extracurricular</code>  | Participation in extracurricular activities, 0 indicating no and 1 indicating yes |\n",
    "|      <code>Sports</code>       |      Participation in sports programs, 0 indicating no and 1 indicating yes       |     |\n",
    "|       <code>Music</code>       |       Participation in music programs, 0 indicating no and 1 indicating yes       |     |\n",
    "|   <code>Volunteering</code>    |   Participation in volunteering programs, 0 indicating no and 1 indicating yes    |     |\n",
    "|        <code>GPA</code>        |                 Grade Point Average in the range of zero to four                  |\n",
    "\n",
    "<p style=\"text-align: justify; line-height:500%; font-size:medium\">\n",
    "<font color=\"red\" size=3><b>Note:</b></font>\n",
    "<font size=3>\n",
    "The evaluation data may contain missing values (NaN).\n",
    "</font>\n",
    "</p>\n",
    "</div>\n",
    "</center>\n"
   ]
  },
  {
   "cell_type": "markdown",
   "metadata": {},
   "source": [
    "<h2 style=\"line-height:200%;color:#0099cc\">\n",
    "Reading the Dataset\n",
    "</h2>\n",
    "\n",
    "<p style=\"text-align: justify; line-height:200%; font-size:medium\">\n",
    "    Initially, you need to read the dataset files. The training samples are saved in the <code>train.csv</code> file, and the test samples, for which you must predict the value of the target variable, are saved in the <code>test.csv</code> file. If you deem it necessary, you can optionally separate a portion of the training set as a validation set.\n",
    "</p>\n"
   ]
  },
  {
   "cell_type": "code",
   "execution_count": null,
   "metadata": {
    "vscode": {
     "languageId": "plaintext"
    }
   },
   "outputs": [],
   "source": [
    "import pandas as pd\n",
    "import numpy as np"
   ]
  },
  {
   "cell_type": "code",
   "execution_count": null,
   "metadata": {
    "vscode": {
     "languageId": "plaintext"
    }
   },
   "outputs": [],
   "source": [
    "# Reading/Loading the dataset files\n",
    "# TODO\n",
    "\n"
   ]
  },
  {
   "cell_type": "markdown",
   "metadata": {},
   "source": [
    "<h2 style=\"line-height:200%;color:#0099cc\">\n",
    "Preprocessing and Feature Engineering\n",
    "</h2>\n",
    "\n",
    "<p style=\"text-align: justify; line-height:200%; font-size:medium\">\n",
    "        In this question, you are free to use any preprocessing/feature engineering technique of your choice.\n",
    "    <br>\n",
    "    The techniques you use will <b>not</b> be directly evaluated by the judging system. Instead, they will all affect your model's accuracy; therefore, the better your preprocessing/feature engineering to improve the model's accuracy, the higher score you will achieve for this question.\n",
    "\n",
    "</p>\n"
   ]
  },
  {
   "cell_type": "code",
   "execution_count": null,
   "metadata": {
    "vscode": {
     "languageId": "plaintext"
    }
   },
   "outputs": [],
   "source": [
    "# Preprocessing step\n",
    "# TODO"
   ]
  },
  {
   "cell_type": "markdown",
   "metadata": {},
   "source": [
    "<h2 style=\"line-height:200%;color:#0099cc\">\n",
    "Model Training\n",
    "</h2>\n",
    "\n",
    "<p style=\"text-align: justify;line-height:200%;font-size:medium\">\n",
    "    Now that you have cleaned the data and perhaps added or removed features, it is time to train a model that can predict the target variable for this problem.\n",
    "</p>\n"
   ]
  },
  {
   "cell_type": "code",
   "execution_count": null,
   "metadata": {
    "vscode": {
     "languageId": "plaintext"
    }
   },
   "outputs": [],
   "source": [
    "# Model design\n",
    "# TODO"
   ]
  },
  {
   "cell_type": "markdown",
   "metadata": {},
   "source": [
    "<h2 style=\"line-height:200%;color:#0099cc\">\n",
    "Evaluation Metric\n",
    "</h2>\n",
    "\n",
    "<p style=\"text-align: justify; line-height:200%; font-size:medium\">\n",
    "    The metric we have chosen to evaluate the model's performance is called <code>r2_score</code>.\n",
    "    <br>\n",
    "    This metric is the quality assessment measure for your model. In other words, the judging system also uses this exact metric for scoring.\n",
    "    <br>\n",
    "    It is suggested that you evaluate your model's performance on the training or validation set based on this metric.\n",
    "</p>\n",
    "\n",
    "<p style=\"text-align: justify; line-height:200%; font-size:medium\">\n",
    "<b style=\"color:red;\">Note:</b>\n",
    "    To receive a score for this question, your model's accuracy must be greater than the threshold of 0.4.\n",
    "    If your model's accuracy is less than 0.4, your score will be \n",
    "    <b>zero</b>\n",
    "    , otherwise, it will be calculated with the following formula:\n",
    "</p>\n"
   ]
  },
  {
   "cell_type": "code",
   "execution_count": null,
   "metadata": {
    "vscode": {
     "languageId": "plaintext"
    }
   },
   "outputs": [],
   "source": [
    "# evaluate your model\n",
    "from sklearn.metrics import r2_score\n",
    "\n",
    "# To-Do"
   ]
  },
  {
   "cell_type": "markdown",
   "metadata": {},
   "source": [
    "<h2 style=\"line-height:200%;color:#0099cc\">\n",
    "Prediction on Test Data and Output\n",
    "</h2>\n",
    "\n",
    "<p style=\"text-align: justify;line-height:200%;font-size:medium\">\n",
    "    Save your model's predictions on the test data in a dataframe (<code>dataframe</code>) with the following format.\n",
    "</p>\n",
    "\n",
    "<p style=\"text-align: justify;line-height:200%;font-size:medium\">\n",
    "    Note that the dataframe name must be <code>submission</code>; otherwise, the judging system will not be able to evaluate your output.\n",
    "    This dataframe contains only 1 column named <code>GPA</code> and has 479 rows.\n",
    "    <br>\n",
    "    For each row in the test dataset, you must have one predicted value.\n",
    "    For example, the table below shows the first 5 rows of the <code>submission</code> dataframe. However, these numbers are hypothetical, and the numbers in the <code>GPA</code> column in your answer may be different.\n",
    "</p>\n",
    "\n",
    "<center>\n",
    "<div style=\"line-height:200%;font-size:medium\">\n",
    "    \n",
    "||<code>GPA</code>|\n",
    "|:----:|:-----:|\n",
    "|0|2.6765|\n",
    "|1|3.9865434|\n",
    "|2|1.0323434|\n",
    "|3|0.0434253|\n",
    "|4|2.060680|\n",
    "\n",
    "</div>\n",
    "</center>\n"
   ]
  },
  {
   "cell_type": "code",
   "execution_count": null,
   "metadata": {
    "vscode": {
     "languageId": "plaintext"
    }
   },
   "outputs": [],
   "source": [
    "# To-Do\n",
    "submission ="
   ]
  },
  {
   "cell_type": "markdown",
   "metadata": {},
   "source": [
    "<h2 style=\"line-height:200%;color:#0099cc\">\n",
    "<b>Submission File Generator Cell</b>\n",
    "</h2>\n",
    "\n",
    "<p style=\"text-align: justify; line-height:200%;font-size:medium\">\n",
    "    Run the cell below to create the <code>result.zip</code> file. Note that you must save the changes made in the notebook (<code>ctrl+s</code>) before running the cell below, otherwise, your score will change to zero at the end of the contest.\n",
    "    <br>\n",
    "    Also, if you are using Colab to run this notebook file, download the latest version of your notebook and include it in the submission file before sending <code>result.zip</code>.\n",
    "</p>\n"
   ]
  },
  {
   "cell_type": "code",
   "execution_count": null,
   "metadata": {
    "vscode": {
     "languageId": "plaintext"
    }
   },
   "outputs": [],
   "source": [
    "import zipfile\n",
    "import os\n",
    "\n",
    "if not os.path.exists(os.path.join(os.getcwd(), 'Student_GPA.ipynb')):\n",
    "    # Note: %notebook -e is a magics command, which might not work in all environments. \n",
    "    # It's intended to export the current notebook content.\n",
    "    # Assuming the user environment supports this or a manual save is done.\n",
    "    # If running in a proper Jupyter environment, this line might be fine.\n",
    "    try:\n",
    "        get_ipython().run_line_magic('notebook', '-e Student_GPA.ipynb')\n",
    "    except NameError:\n",
    "        print(\"Warning: Not running in a Jupyter environment with magics enabled. Please ensure 'Student_GPA.ipynb' is saved manually.\")\n",
    "\n",
    "def compress(file_names):\n",
    "    print(\"File Paths:\")\n",
    "    print(file_names)\n",
    "    compression = zipfile.ZIP_DEFLATED\n",
    "    with zipfile.ZipFile(\"result.zip\", mode=\"w\") as zf:\n",
    "        for file_name in file_names:\n",
    "            zf.write('./' + file_name, file_name, compress_type=compression)\n",
    "\n",
    "submission.to_csv('submission.csv', index=False)\n",
    "\n",
    "file_names = ['Student_GPA.ipynb', 'submission.csv']\n",
    "compress(file_names)"
   ]
  }
 ],
 "metadata": {
  "kernelspec": {
   "display_name": "Python 3 (ipykernel)",
   "language": "python",
   "name": "python3"
  },
  "language_info": {
   "codemirror_mode": {
    "name": "ipython",
    "version": 3
   },
   "file_extension": ".py",
   "mimetype": "text/x-python",
   "name": "python",
   "nbconvert_exporter": "python",
   "pygments_lexer": "ipython3",
   "version": "3.8.10"
  }
 },
 "nbformat": 4,
 "nbformat_minor": 2
}
