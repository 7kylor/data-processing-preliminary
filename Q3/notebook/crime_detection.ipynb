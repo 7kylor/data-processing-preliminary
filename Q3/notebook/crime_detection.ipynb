{
 "cells": [
  {
   "cell_type": "markdown",
   "metadata": {
    "id": "mD9QagogiSdt"
   },
   "source": [
    "<h1 align=center style=\"line-height:200%;color:#0099cc\">\n",
    "<font color=\"#0099cc\">\n",
    "Criminology\n",
    "</font>\n",
    "</h1>\n"
   ]
  },
  {
   "cell_type": "markdown",
   "metadata": {
    "id": "kFIZh7YuiSdw"
   },
   "source": [
    "<h2 align=left style=\"line-height:200%;color:#0099cc\">\n",
    "<font color=\"#0099cc\">\n",
    "Introduction and Problem Statement\n",
    "</font>\n",
    "</h2>\n",
    "\n",
    "<p dir=ltr style=\"direction: ltr;text-align: justify;line-height:200%;font-size:medium\">\n",
    "<font size=3>\n",
    "Your goal in this problem is to create a predictive model that can classify new incidents into one of several crime categories using historical data. This model should help law enforcement agencies identify patterns of criminal behavior and make more informed decisions regarding crime prevention strategies in Los Angeles.\n",
    "</font>\n",
    "</p>\n"
   ]
  },
  {
   "cell_type": "markdown",
   "metadata": {
    "id": "xIK38OxIiSdx"
   },
   "source": [
    "<h2 align=left style=\"line-height:200%;color:#0099cc\">\n",
    "<font color=\"#0099cc\">\n",
    "Dataset Introduction\n",
    "</font>\n",
    "</h2>\n",
    "\n",
    "<p dir=ltr style=\"direction: ltr; text-align: justify; line-height:200%; font-size:medium\">\n",
    "<font size=3>\n",
    "The training dataset contains 84,113 rows. The description of each column is provided in the table below.\n",
    "</font>\n",
    "</p>\n",
    "\n",
    "<center>\n",
    "<div dir=ltr style=\"direction: ltr;line-height:200%;font-size:medium\">\n",
    "<font size=3>\n",
    "    \n",
    "|Column|Description|\n",
    "|:------:|:---:|\n",
    "|DR_NO| A unique identifier for each crime report|\n",
    "|Date Rptd| Date the crime was reported|\n",
    "|DATE OCC| Date the crime occurred|\n",
    "|TIME OCC| Time the crime occurred|\n",
    "|AREA| Code of the area where the crime occurred|\n",
    "|AREA NAME| Name of the area where the crime occurred|\n",
    "|Rpt Dist No| Reporting District Number|\n",
    "|Crm Cd| Crime Code, indicating the crime category (This column is the target variable)|\n",
    "|Crm Cd Desc| Description of the crime|\n",
    "|Mocodes| Codes indicating the method used to commit the crime|\n",
    "|Vict Age| Victim's Age|\n",
    "|Vict Sex| Victim's Sex|\n",
    "|Vict Descent| Victim's Descent/Ethnicity|\n",
    "|Premis Cd| Code for the type of premises where the crime occurred|\n",
    "|Premis Desc| Description of the premises|\n",
    "|Weapon Used Cd| Code for the type of weapon used in the crime|\n",
    "|Weapon Desc| Description of the weapon used|\n",
    "|Status| Case Status (e.g., pending, closed)|\n",
    "|Status Desc| Description of the case status|\n",
    "|Crm Cd 1, Crm Cd 2, Crm Cd 3, Crm Cd 4| Additional crime codes if the incident involves multiple crimes|\n",
    "|LOCATION| Latitude and longitude of the crime|\n",
    "|Cross Street| Nearest cross street to the crime location|\n",
    "|LAT| Crime's latitude coordinate|\n",
    "|LON| Crime's longitude coordinate|\n",
    "\n",
    "</font>\n",
    "</div>\n",
    "</center>\n",
    "\n",
    "<p dir=ltr style=\"direction: ltr; text-align: justify; line-height:200%; font-size:medium\">\n",
    "<font size=3>\n",
    "The test dataset is similar to the training set, except that it does not contain the <code>Crm Cd</code> column, which is the target variable for the problem. It also does not contain the <code>Crm Cd 1</code>, <code>Crm Cd 2</code>, <code>Crm Cd 3</code>, <code>Crm Cd 4</code>, and <code>Crm Cd Desc</code> columns, which provide direct information about the target variable. The test dataset has 9346 rows and 21 columns.\n",
    "</font>\n",
    "</p>\n"
   ]
  },
  {
   "cell_type": "markdown",
   "metadata": {
    "id": "DPFvmd1QoKiL"
   },
   "source": [
    "<h3 align=left style=\"line-height:200%;color:#0099cc\">\n",
    "<font color=\"#0099cc\">\n",
    "Evaluation Metric\n",
    "</font>\n",
    "</h3>\n",
    "\n",
    "<p dir=ltr style=\"direction: ltr; text-align: justify; line-height:200%; font-size:medium\">\n",
    "<font size=3>\n",
    "The evaluation metric used in the judging of this problem is the <code>F1 Macro</code> score, which examines precision and recall across all crime categories in a balanced manner. Unlike accuracy, which can be swayed by imbalanced data, the <code>F1 Macro</code> score calculates the <code>F1</code> score for each crime category independently and then computes their average. This metric ensures that performance on infrequent crime categories holds equal importance. This feature makes the metric suitable for predicting various types of crimes, regardless of their frequency in the dataset.\n",
    "</font>\n",
    "</p>\n"
   ]
  },
  {
   "cell_type": "markdown",
   "metadata": {
    "id": "KIfFWcc8qEAO"
   },
   "source": [
    "<h2 align=left style=\"line-height:200%;color:#0099cc\">\n",
    "<font color=\"#0099cc\">\n",
    "Prediction for Test Data and Output\n",
    "</font>\n",
    "</h2>\n",
    "\n",
    "<p dir=ltr style=\"direction: ltr;text-align: left;line-height:200%;font-size:medium\">\n",
    "<font size=3>\n",
    "Use your model to predict the samples in the test data and prepare the results in a table format (<code>dataframe</code>) as shown below.\n",
    "</font>\n",
    "</p>\n",
    "\n",
    "<div dir=ltr style=\"direction: ltr;text-align: center;line-height:200%;font-size:medium\">\n",
    "<font size=3>\n",
    "    \n",
    "|Column|Description|\n",
    "|------|---|\n",
    "|Crm Cd|Predicted Crime Code|\n",
    "    \n",
    "</font>\n",
    "</div>\n"
   ]
  },
  {
   "cell_type": "markdown",
   "metadata": {
    "id": "rH8Y9d6JqmEf"
   },
   "source": [
    "<p dir=ltr style=\"direction: ltr;text-align: left;line-height:200%;font-size:medium\">\n",
    "<font size=3>\n",
    "The dataframe must be named <i>submission</i>; otherwise, the judging system cannot evaluate your effort.\n",
    "    <br>\n",
    "    This dataframe contains only 1 column named <i>Crm Cd</i> and has ? rows.\n",
    "    <br>\n",
    "    You must have one predicted value for each row in the <i>test</i> dataframe.\n",
    "    <br>\n",
    "    The table below shows the first 5 rows of the <code>submission</code> dataframe. Note that in your answer, the values of the <i>Crm Cd</i> column may be different.\n",
    "</font>\n",
    "</p>\n",
    "\n",
    "<div style=\"text-align: center;line-height:200%;font-size:medium\">\n",
    "<font size=3>\n",
    "    \n",
    "|Crm Cd|\n",
    "|-----|\n",
    "|210|\n",
    "|420|\n",
    "|930|\n",
    "|624|\n",
    "|420|\n",
    "\n",
    "</font>\n",
    "</div>\n"
   ]
  },
  {
   "cell_type": "code",
   "execution_count": 15,
   "metadata": {},
   "outputs": [],
   "source": [
    "# import libraries \n",
    "import os\n",
    "import pandas as pd\n",
    "import numpy as np\n",
    "\n",
    "# better to import these at the end of the file for performance\n",
    "# from sklearn.model_selection import StratifiedKFold, cross_val_score\n",
    "# from sklearn.metrics import f1_score, make_scorer\n",
    "# from sklearn.ensemble import RandomForestClassifier\n"
   ]
  },
  {
   "cell_type": "code",
   "execution_count": 16,
   "metadata": {},
   "outputs": [
    {
     "name": "stdout",
     "output_type": "stream",
     "text": [
      "Data directory found: /Users/taher/Projects/data-processing–preliminary  /Q3/notebook/../data\n"
     ]
    }
   ],
   "source": [
    "# Locate data directory \n",
    "possible_data_dirs = [\n",
    "    os.path.join(os.getcwd(), 'data'),\n",
    "    os.path.join(os.getcwd(), '..', 'data'),\n",
    "    os.path.join(os.path.dirname(os.getcwd()), 'data')\n",
    "]\n",
    "\n",
    "data_dir = None\n",
    "for p in possible_data_dirs:\n",
    "    if os.path.exists(os.path.join(p, 'train.csv')) and os.path.exists(os.path.join(p, 'test.csv')):\n",
    "        data_dir = p\n",
    "        print(f\"Data directory found: {data_dir}\")\n",
    "        break\n",
    "\n",
    "if data_dir is None:\n",
    "    raise FileNotFoundError(\"Could not find data directory containing train.csv and test.csv\")\n",
    "\n",
    "train_path = os.path.join(data_dir, 'train.csv')\n",
    "test_path = os.path.join(data_dir, 'test.csv')\n",
    "\n",
    "train_df = pd.read_csv(train_path)\n",
    "test_df = pd.read_csv(test_path)\n",
    "\n",
    "\n",
    "# define the target column\n",
    "target_col = 'Crm Cd'\n",
    "\n"
   ]
  },
  {
   "cell_type": "code",
   "execution_count": 17,
   "metadata": {},
   "outputs": [
    {
     "name": "stdout",
     "output_type": "stream",
     "text": [
      "Features are extracted and cleaned\n"
     ]
    }
   ],
   "source": [
    "# now lets define the function to build the features out of the training data\n",
    "\n",
    "def build_features(df: pd.DataFrame) -> pd.DataFrame:\n",
    "    df_proc = df.copy()\n",
    "\n",
    "    # Extract time features\n",
    "    if 'TIME OCC' in df_proc.columns:\n",
    "        def extract_hour(val):\n",
    "            try:\n",
    "                t = int(val)\n",
    "            except Exception:\n",
    "                return np.nan\n",
    "            return (t // 100) % 24\n",
    "        df_proc['TIME_OCC_HOUR'] = df_proc['TIME OCC'].apply(extract_hour)\n",
    "\n",
    "    # Extract date features\n",
    "    for date_col in ['Date Rptd', 'DATE OCC']:\n",
    "        if date_col in df_proc.columns:\n",
    "            # infer the datetime format\n",
    "            dt = pd.to_datetime(\n",
    "                df_proc[date_col].astype(str).str.strip(),\n",
    "                format='%m/%d/%Y %I:%M:%S %p',\n",
    "                errors='coerce'\n",
    "            )\n",
    "            df_proc[date_col + '_YEAR'] = dt.dt.year\n",
    "            df_proc[date_col + '_MONTH'] = dt.dt.month\n",
    "            df_proc[date_col + '_DAY'] = dt.dt.day\n",
    "            df_proc[date_col + '_DOW'] = dt.dt.dayofweek\n",
    "\n",
    "    # Mocodes summary\n",
    "    if 'Mocodes' in df_proc.columns:\n",
    "        df_proc['MOCODES_COUNT'] = (\n",
    "            df_proc['Mocodes']\n",
    "            .fillna('')\n",
    "            .astype(str)\n",
    "            .map(lambda s: 0 if s.strip() == '' else len(s.strip().split()))\n",
    "        )\n",
    "\n",
    "    # Victim age cleaning\n",
    "    if 'Vict Age' in df_proc.columns:\n",
    "        df_proc['Vict Age'] = pd.to_numeric(df_proc['Vict Age'], errors='coerce')\n",
    "        df_proc['Vict Age'] = df_proc['Vict Age'].clip(lower=0, upper=100)\n",
    "\n",
    "    # Drop leakage / text-heavy columns not in test or too high-cardinality\n",
    "    drop_cols = [\n",
    "        'DR_NO', 'Crm Cd Desc', 'Crm Cd 1', 'Crm Cd 2', 'Crm Cd 3', 'Crm Cd 4',\n",
    "        'Date Rptd', 'DATE OCC', 'Mocodes', 'LOCATION', 'Cross Street'\n",
    "    ]\n",
    "    df_proc = df_proc.drop(columns=[c for c in drop_cols if c in df_proc.columns], errors='ignore')\n",
    "\n",
    "    return df_proc\n",
    "\n",
    "print(\"Features are extracted and cleaned\")\n",
    "\n",
    "# print stats of the training data\n",
    "# print(train_df.describe())\n",
    "\n",
    "# print stats of the test data\n",
    "# print(test_df.describe())\n",
    "\n"
   ]
  },
  {
   "cell_type": "code",
   "execution_count": 18,
   "metadata": {},
   "outputs": [
    {
     "name": "stdout",
     "output_type": "stream",
     "text": [
      "Training data has 84113 rows\n",
      "Test data has 9346 rows\n",
      "Combined data has 93459 rows\n"
     ]
    }
   ],
   "source": [
    "# Separate target\n",
    "y = train_df[target_col].astype(int)\n",
    "X_train_raw = train_df.drop(columns=[target_col], errors='ignore')\n",
    "X_test_raw = test_df.copy()\n",
    "\n",
    "# Build features\n",
    "X_train_feats = build_features(X_train_raw)\n",
    "X_test_feats = build_features(X_test_raw)\n",
    "\n",
    "# Combine to ensure consistent encoding of categoricals \n",
    "combined = pd.concat([X_train_feats, X_test_feats], axis=0, ignore_index=True)\n",
    "\n",
    "# Label-encode object columns deterministically\n",
    "object_cols = [c for c in combined.columns if combined[c].dtype == 'object']\n",
    "for col in object_cols:\n",
    "    combined[col] = combined[col].fillna('NA').astype('category').cat.codes.astype(np.int32)\n",
    "\n",
    "# Fill remaining numeric missing values\n",
    "for col in combined.columns:\n",
    "    if combined[col].dtype.kind in 'biufc':\n",
    "        combined[col] = combined[col].fillna(-1)\n",
    "\n",
    "# Split back\n",
    "X_train = combined.iloc[:len(X_train_feats), :].reset_index(drop=True)\n",
    "X_test = combined.iloc[len(X_train_feats):, :].reset_index(drop=True)\n",
    "\n",
    "# prient how many rows are in the training data and the test data and the combined data\n",
    "print(f\"Training data has {len(X_train)} rows\")\n",
    "print(f\"Test data has {len(X_test)} rows\")\n",
    "print(f\"Combined data has {len(combined)} rows\")\n",
    "\n",
    "# print the first 5 rows of the combined data for testing how the data looks like\n",
    "# print(combined.head())\n",
    " \n",
    "\n",
    "\n"
   ]
  },
  {
   "cell_type": "code",
   "execution_count": 19,
   "metadata": {},
   "outputs": [
    {
     "name": "stdout",
     "output_type": "stream",
     "text": [
      "RandomForestClassifier(class_weight='balanced', min_samples_leaf=2,\n",
      "                       n_estimators=400, n_jobs=-1, random_state=42)\n"
     ]
    }
   ],
   "source": [
    "# Train and predict phase yes\n",
    "from sklearn.model_selection import StratifiedKFold, cross_val_score\n",
    "from sklearn.metrics import f1_score\n",
    "from sklearn.base import clone\n",
    "from sklearn.ensemble import RandomForestClassifier\n",
    "\n",
    "# use RandomForestClassifier from sklearn\n",
    "clf = RandomForestClassifier(\n",
    "    n_estimators=400,\n",
    "    max_depth=None,\n",
    "    min_samples_leaf=2,\n",
    "    max_features='sqrt',\n",
    "    class_weight='balanced',\n",
    "    n_jobs=-1,\n",
    "    random_state=42,\n",
    ") \n",
    "\n",
    "# Print the model parameters \n",
    "print(clf)\n",
    "\n",
    "# Print the model summary\n",
    "# print(clf.get_params())\n",
    " \n",
    "\n",
    "\n"
   ]
  },
  {
   "cell_type": "code",
   "execution_count": 20,
   "metadata": {
    "id": "w36rHxW0qE6J"
   },
   "outputs": [
    {
     "name": "stdout",
     "output_type": "stream",
     "text": [
      "CV F1-macro (3-fold): mean=0.519, std=0.001\n"
     ]
    }
   ],
   "source": [
    "\n",
    "# Optional - quick CV to gauge F1-macro\n",
    "try:\n",
    "    cv = StratifiedKFold(n_splits=3, shuffle=True, random_state=42)\n",
    "    f1_scores = cross_val_score(\n",
    "        clf, X_train, y,\n",
    "        scoring='f1_macro',\n",
    "        cv=cv, n_jobs=-1\n",
    "    )\n",
    "    print(f\"CV F1-macro (3-fold): mean={f1_scores.mean():.3f}, std={f1_scores.std():.3f}\")\n",
    "except Exception as e:\n",
    "    print(f\"CV failed: {e}\")\n",
    "\n",
    "clf.fit(X_train, y)\n",
    "y_pred = clf.predict(X_test)\n",
    " \n",
    "\n",
    "submission = pd.DataFrame({'Crm Cd': pd.Series(y_pred).astype(int)})"
   ]
  },
  {
   "cell_type": "markdown",
   "metadata": {
    "id": "B7PgaLKdiSdz"
   },
   "source": [
    "<h2 dir=ltr align=left style=\"line-height:200%;color:#0099cc\">\n",
    "<font color=\"#0099cc\">\n",
    "<b>Submission Builder Cell</b>\n",
    "</font>\n",
    "</h2>\n",
    "\n",
    "<p dir=ltr style=\"direction: ltr; text-align: justify; line-height:200%; font-size:medium\">\n",
    "<font size=3>\n",
    "Run the cell below to create the <code>result.zip</code> file. Note that before running the cell below, you must have saved the changes made in the notebook (<code>ctrl+s</code>); otherwise, your score will change to zero at the end of the competition.\n",
    "    <br>\n",
    "    Also, if you are using Colab to run this notebook file, download the latest version of your notebook and include it in the submission file before sending the <code>result.zip</code> file.\n",
    "</font>\n"
   ]
  },
  {
   "cell_type": "code",
   "execution_count": 21,
   "metadata": {
    "id": "T9jRlQwUiSdz"
   },
   "outputs": [
    {
     "name": "stdout",
     "output_type": "stream",
     "text": [
      "File Paths:\n",
      "['crime_detection.ipynb', 'submission.csv']\n"
     ]
    }
   ],
   "source": [
    "import os\n",
    "import zipfile\n",
    "\n",
    "def compress(file_names):\n",
    "    print(\"File Paths:\")\n",
    "    print(file_names)\n",
    "    compression = zipfile.ZIP_DEFLATED\n",
    "    with zipfile.ZipFile(\"result.zip\", mode=\"w\") as zf:\n",
    "        for file_name in file_names:\n",
    "            zf.write('./' + file_name, file_name, compress_type=compression)\n",
    "\n",
    "submission.to_csv('submission.csv', index=False)\n",
    "file_names = ['crime_detection.ipynb', 'submission.csv']\n",
    "compress(file_names)"
   ]
  }
 ],
 "metadata": {
  "colab": {
   "provenance": []
  },
  "kernelspec": {
   "display_name": "base",
   "language": "python",
   "name": "python3"
  },
  "language_info": {
   "codemirror_mode": {
    "name": "ipython",
    "version": 3
   },
   "file_extension": ".py",
   "mimetype": "text/x-python",
   "name": "python",
   "nbconvert_exporter": "python",
   "pygments_lexer": "ipython3",
   "version": "3.12.7"
  }
 },
 "nbformat": 4,
 "nbformat_minor": 1
}
